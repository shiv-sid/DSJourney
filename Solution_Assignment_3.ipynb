{
 "cells": [
  {
   "cell_type": "code",
   "execution_count": 39,
   "metadata": {},
   "outputs": [
    {
     "name": "stdout",
     "output_type": "stream",
     "text": [
      "11106\n",
      "8892\n"
     ]
    }
   ],
   "source": [
    "#myreduce() \n",
    "\n",
    "ip_li=[9999,999,99,9,0]\n",
    "\n",
    "def add(x,y):\n",
    "    return x+y\n",
    "def diff(x,y):\n",
    "    return x-y\n",
    "\n",
    "def my_reduce(func,arg_list):\n",
    "    result=arg_list[0]\n",
    "    for i in arg_list[1:]:\n",
    "        result=func(result,i)\n",
    "    return result\n",
    "\n",
    "sums=my_reduce(add,ip_li)\n",
    "print(sums)\n",
    "\n",
    "diffs=my_reduce(diff,ip_li)\n",
    "print(diffs)"
   ]
  },
  {
   "cell_type": "code",
   "execution_count": 40,
   "metadata": {},
   "outputs": [
    {
     "name": "stdout",
     "output_type": "stream",
     "text": [
      "[9999, 999, 99]\n"
     ]
    }
   ],
   "source": [
    "#myfilter()\n",
    "\n",
    "ip_li=[9999,999,99,9,0]\n",
    "\n",
    "def gt_10(x):\n",
    "    if x>10:\n",
    "        return x\n",
    "\n",
    "def my_filter(func,arg_list):\n",
    "    result=[]\n",
    "    for i in arg_list:\n",
    "        if func(i):\n",
    "            result.append(func(i))\n",
    "    return result\n",
    "\n",
    "gt_10_list=my_filter(gt_10,ip_li)\n",
    "print(gt_10_list)"
   ]
  },
  {
   "cell_type": "code",
   "execution_count": 41,
   "metadata": {},
   "outputs": [
    {
     "name": "stdout",
     "output_type": "stream",
     "text": [
      "['x', 'xx', 'xxx', 'xxxx', 'y', 'yy', 'yyy', 'yyyy', 'z', 'zz', 'zzz', 'zzzz']\n",
      "['x', 'y', 'z', 'xx', 'yy', 'zz', 'xxx', 'yyy', 'zzz', 'xxxx', 'yyyy', 'zzzz']\n",
      "[2],[3],[4],[3],[4],[5],[4],[5],[6]\n",
      "[[2, 3, 4, 5], [3, 4, 5, 6], [4, 5, 6, 7], [5, 6, 7, 8]]\n",
      "[(1, 1), (2, 1), (3, 1), (1, 2), (2, 2), (3, 2), (1, 3), (2, 3), (3, 3)]\n"
     ]
    }
   ],
   "source": [
    "xyz_list=['x','y','z']\n",
    "num_list=[2,3,4,5,6]\n",
    "numo_list=[2,3,4,5,6,7,8]\n",
    "one_list=[1,2,3]\n",
    "two_list=[1,2,3]\n",
    "print([c*i for c in xyz_list for i in range(1,5)])\n",
    "print([i*c for i in range(1,5) for c in xyz_list])\n",
    "print(','.join(([str([num_list[i]])+','+str([num_list[i+1]])+','+str([num_list[i+2]]) for i in range(len(num_list)) if i+2<len(num_list)])))\n",
    "print([[numo_list[i],numo_list[i+1],numo_list[i+2],numo_list[i+3]] for i in range(len(numo_list)) if i+3<len(numo_list)])\n",
    "print([(j,i) for i in one_list for j in two_list])"
   ]
  },
  {
   "cell_type": "code",
   "execution_count": null,
   "metadata": {},
   "outputs": [],
   "source": [
    "\"\"\"\n",
    "\n",
    "l=lambda x:2*x \n",
    "print(l(5))\n",
    "\n",
    "max=lambda x,y:x if x>y else y\n",
    "print(max(1500,910))\n",
    "\n",
    "li=[9,99,999,9999]\n",
    "\n",
    "print(list(map(lambda x:2*x,li)))\n",
    "\n",
    "print(list(filter(lambda x:x>100,li)))\n",
    "\n",
    "from functools import reduce\n",
    "print(reduce(lambda x,y:x+y,li))\n",
    "\n",
    "\n",
    "#[9+99+999+9999]\n",
    "\n",
    "nos=[1,2,3,4,5]\n",
    "\n",
    "def square(x):\n",
    "    return x*x\n",
    "def my_map(func,li):\n",
    "    result=[]\n",
    "    for i in li:\n",
    "        result.append(func(i))\n",
    "    return result\n",
    "squares=my_map(square,nos)\n",
    "print(squares)\n",
    "\n",
    "\n",
    "\"\"\""
   ]
  }
 ],
 "metadata": {
  "kernelspec": {
   "display_name": "Python 3",
   "language": "python",
   "name": "python3"
  },
  "language_info": {
   "codemirror_mode": {
    "name": "ipython",
    "version": 3
   },
   "file_extension": ".py",
   "mimetype": "text/x-python",
   "name": "python",
   "nbconvert_exporter": "python",
   "pygments_lexer": "ipython3",
   "version": "3.8.3"
  }
 },
 "nbformat": 4,
 "nbformat_minor": 4
}

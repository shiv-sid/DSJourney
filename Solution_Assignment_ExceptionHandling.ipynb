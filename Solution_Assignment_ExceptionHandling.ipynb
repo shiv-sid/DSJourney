{
 "cells": [
  {
   "cell_type": "code",
   "execution_count": 12,
   "metadata": {},
   "outputs": [
    {
     "name": "stdout",
     "output_type": "stream",
     "text": [
      "division by zero\n",
      "Execution is completed..!!\n"
     ]
    }
   ],
   "source": [
    "try:\n",
    "    5/0\n",
    "except ZeroDivisionError as e:\n",
    "    print(e)\n",
    "except Exception as e:\n",
    "    print(e)\n",
    "else:\n",
    "    print(\"Else block\")\n",
    "finally:\n",
    "    print(\"Execution is completed..!!\")"
   ]
  },
  {
   "cell_type": "code",
   "execution_count": 14,
   "metadata": {},
   "outputs": [
    {
     "name": "stdout",
     "output_type": "stream",
     "text": [
      "Americans  play Baseball\n",
      "Americans  play Cricket\n",
      "Americans  watch Baseball\n",
      "Americans  watch Cricket\n",
      "Indians play Baseball\n",
      "Indians play Cricket\n",
      "Indians watch Baseball\n",
      "Indians watch Cricket\n"
     ]
    }
   ],
   "source": [
    "subjects = [\"Americans \",\"Indians\"]\n",
    "verbs = [\"play\",\"watch\"]\n",
    "objects = [\"Baseball\",\"Cricket\"]\n",
    "\n",
    "for i in subjects:\n",
    "    for j in verbs:\n",
    "        for k in objects:\n",
    "            print(i,j,k)"
   ]
  }
 ],
 "metadata": {
  "kernelspec": {
   "display_name": "Python 3",
   "language": "python",
   "name": "python3"
  },
  "language_info": {
   "codemirror_mode": {
    "name": "ipython",
    "version": 3
   },
   "file_extension": ".py",
   "mimetype": "text/x-python",
   "name": "python",
   "nbconvert_exporter": "python",
   "pygments_lexer": "ipython3",
   "version": "3.8.3"
  }
 },
 "nbformat": 4,
 "nbformat_minor": 4
}

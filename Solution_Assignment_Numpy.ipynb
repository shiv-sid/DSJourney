{
 "cells": [
  {
   "cell_type": "code",
   "execution_count": 91,
   "metadata": {},
   "outputs": [
    {
     "name": "stdout",
     "output_type": "stream",
     "text": [
      "Enter the window value :3\n",
      "The Length of the list for which you have to determine the MOVING AVERAGES :13\n",
      "Enter the Values below as prompted : \n",
      "3\n",
      "5\n",
      "7\n",
      "2\n",
      "8\n",
      "10\n",
      "11\n",
      "65\n",
      "72\n",
      "81\n",
      "99\n",
      "100\n",
      "150\n",
      "The MOVING AVERAGE SEQUENCE is as below : \n",
      "[5.0, 4.67, 5.67, 6.67, 9.67, 28.67, 49.33, 72.67, 84.0, 93.33, 116.33]\n"
     ]
    }
   ],
   "source": [
    "# MOVING AVERAGES USING NORMAL LISTS IN PYTHON\n",
    "\n",
    "def li_func(li_len):\n",
    "    li=[]\n",
    "    for i in range(int(li_len)):\n",
    "        li.append(int(input()))\n",
    "    return li\n",
    "    \n",
    "def ma_func(li,win):\n",
    "    inv=len(li)-win+1\n",
    "    ma_list=[]\n",
    "    for i in range(inv):\n",
    "        #print(li[i],li[i+1],li[i+2],\":\",round(float((li[i]+li[i+1]+li[i+2])/win),2))\n",
    "        ma_list.append(round(float((li[i]+li[i+1]+li[i+2])/win),2))\n",
    "    return ma_list\n",
    "\n",
    "win=int(input(\"Enter the window value :\"))\n",
    "li_len=int(input(\"The Length of the list for which you have to determine the MOVING AVERAGES :\"))\n",
    "print(\"Enter the Values below as prompted : \")\n",
    "li=li_func(li_len)\n",
    "print(\"The MOVING AVERAGE SEQUENCE is as below : \")\n",
    "print(ma_func(li,win))\n",
    "#print(ma_func([3, 5, 7, 2, 8, 10, 11, 65, 72, 81, 99, 100, 150],3))"
   ]
  },
  {
   "cell_type": "code",
   "execution_count": 92,
   "metadata": {},
   "outputs": [
    {
     "name": "stdout",
     "output_type": "stream",
     "text": [
      "The input array is : [1,2,3,4,5]\n",
      "Enter N-value : 9\n",
      "Vander Matrix in INCREASING ORDER : \n",
      "[[     1      1      1      1      1      1      1      1      1]\n",
      " [     1      2      4      8     16     32     64    128    256]\n",
      " [     1      3      9     27     81    243    729   2187   6561]\n",
      " [     1      4     16     64    256   1024   4096  16384  65536]\n",
      " [     1      5     25    125    625   3125  15625  78125 390625]]\n",
      "Vander Matrix in DECREASING ORDER : \n",
      "[[     1      1      1      1      1      1      1      1      1]\n",
      " [   256    128     64     32     16      8      4      2      1]\n",
      " [  6561   2187    729    243     81     27      9      3      1]\n",
      " [ 65536  16384   4096   1024    256     64     16      4      1]\n",
      " [390625  78125  15625   3125    625    125     25      5      1]]\n"
     ]
    }
   ],
   "source": [
    "x = np.array([1, 2, 3, 4, 5])\n",
    "print(\"The input array is : [1,2,3,4,5]\")\n",
    "N=int(input(\"Enter N-value : \"))\n",
    "print(\"Vander Matrix in INCREASING ORDER : \")\n",
    "print(np.column_stack([x**(i) for i in range(N)]))\n",
    "print(\"Vander Matrix in DECREASING ORDER : \")\n",
    "print(np.column_stack([x**(N-1-i) for i in range(N)]))"
   ]
  },
  {
   "cell_type": "code",
   "execution_count": 94,
   "metadata": {
    "scrolled": true
   },
   "outputs": [
    {
     "name": "stdout",
     "output_type": "stream",
     "text": [
      "[[     1    256   6561  65536 390625]\n",
      " [     1    128   2187  16384  78125]\n",
      " [     1     64    729   4096  15625]\n",
      " [     1     32    243   1024   3125]\n",
      " [     1     16     81    256    625]\n",
      " [     1      8     27     64    125]\n",
      " [     1      4      9     16     25]\n",
      " [     1      2      3      4      5]\n",
      " [     1      1      1      1      1]]\n",
      "========================================\n",
      "[[     1      1      1      1      1]\n",
      " [     1      2      3      4      5]\n",
      " [     1      4      9     16     25]\n",
      " [     1      8     27     64    125]\n",
      " [     1     16     81    256    625]\n",
      " [     1     32    243   1024   3125]\n",
      " [     1     64    729   4096  15625]\n",
      " [     1    128   2187  16384  78125]\n",
      " [     1    256   6561  65536 390625]]\n"
     ]
    }
   ],
   "source": [
    "print(np.array([x**(N-1-i) for i in range(N)]))\n",
    "print(\"========================================\")\n",
    "print(np.array([x**(i) for i in range(N)]))\n",
    "#print(np.vstack([x**(i) for i in range(N)]))\n",
    "#print(np.vstack([x**(N-1-i) for i in range(N)]))"
   ]
  }
 ],
 "metadata": {
  "kernelspec": {
   "display_name": "Python 3",
   "language": "python",
   "name": "python3"
  },
  "language_info": {
   "codemirror_mode": {
    "name": "ipython",
    "version": 3
   },
   "file_extension": ".py",
   "mimetype": "text/x-python",
   "name": "python",
   "nbconvert_exporter": "python",
   "pygments_lexer": "ipython3",
   "version": "3.8.3"
  }
 },
 "nbformat": 4,
 "nbformat_minor": 4
}

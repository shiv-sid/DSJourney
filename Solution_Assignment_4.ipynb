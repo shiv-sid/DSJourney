{
 "cells": [
  {
   "cell_type": "code",
   "execution_count": 42,
   "metadata": {},
   "outputs": [
    {
     "name": "stdout",
     "output_type": "stream",
     "text": [
      "Input the Triangle Side Values :\n",
      "a=24\n",
      "b=30\n",
      "c=18\n",
      "The Area of the Triangle is :\n",
      "216.0\n"
     ]
    }
   ],
   "source": [
    "class tri_sides:\n",
    "    def __init__(self,s1,s2,s3):\n",
    "        self.s1=s1\n",
    "        self.s2=s2\n",
    "        self.s3=s3\n",
    "class tri_area(tri_sides):\n",
    "    def __init__(self,s1,s2,s3):\n",
    "        super().__init__(s1,s2,s3)\n",
    "        self.s=(self.s1+self.s2+self.s3)/2\n",
    "    def calc_area(self):\n",
    "        self.area=(self.s*(self.s-self.s1)*(self.s-self.s2)*(self.s-self.s3))**0.5\n",
    "        return self.area\n",
    "\n",
    "print(\"Input the Triangle Side Values :\")\n",
    "a= int(input(\"a=\"))\n",
    "b= int(input(\"b=\"))\n",
    "c= int(input(\"c=\"))\n",
    "tri=tri_area(a,b,c)\n",
    "print(\"The Area of the Triangle is :\")\n",
    "print(tri.calc_area())"
   ]
  },
  {
   "cell_type": "code",
   "execution_count": 6,
   "metadata": {},
   "outputs": [
    {
     "name": "stdout",
     "output_type": "stream",
     "text": [
      "Enter the the string : shiva siddharth is a champio he never backs down\n",
      "Enter the int value : 4\n",
      "shiva\n",
      "siddharth\n",
      "champio\n",
      "never\n",
      "backs\n"
     ]
    }
   ],
   "source": [
    " def filter_long_words(ip_str,n):\n",
    "    ip_str_list=ip_str.split()\n",
    "    ip_str_len=len(ip_str_list)\n",
    "    #print(ip_str_list)\n",
    "    #print(ip_str_len)\n",
    "    for each_str in ip_str_list:\n",
    "        if len(each_str)>n:\n",
    "            print(each_str)\n",
    "    \n",
    "ip_str=input(\"Enter the the string : \")\n",
    "n=int(input(\"Enter the int value : \"))\n",
    "filter_long_words(ip_str,n)"
   ]
  },
  {
   "cell_type": "code",
   "execution_count": 7,
   "metadata": {},
   "outputs": [
    {
     "name": "stdout",
     "output_type": "stream",
     "text": [
      "Enter the the string : shiva siddharth is a champio he never backs down\n"
     ]
    },
    {
     "data": {
      "text/plain": [
       "[5, 9, 2, 1, 7, 2, 5, 5, 4]"
      ]
     },
     "execution_count": 7,
     "metadata": {},
     "output_type": "execute_result"
    }
   ],
   "source": [
    "def str_len_convert(ip_str):\n",
    "    ip_str_list=ip_str.split()\n",
    "    str_len_list=[]\n",
    "    for each_str in ip_str_list:\n",
    "        str_len_list.append(len(each_str))\n",
    "    return str_len_list\n",
    "\n",
    "ip_str=input(\"Enter the the string : \")\n",
    "str_len_convert(ip_str)"
   ]
  },
  {
   "cell_type": "code",
   "execution_count": 55,
   "metadata": {},
   "outputs": [
    {
     "name": "stdout",
     "output_type": "stream",
     "text": [
      "Enter a string of length one(1) : b\n",
      "False\n"
     ]
    }
   ],
   "source": [
    "ip_str=input(\"Enter a string of length one(1) : \")\n",
    "\n",
    "def vowel_finder(ip_str):\n",
    "    if len(ip_str)==1:\n",
    "        if ip_str==\"a\" or ip_str==\"e\" or ip_str==\"i\" or ip_str==\"o\" or ip_str==\"u\":\n",
    "            return True\n",
    "        else:\n",
    "            return False\n",
    "\n",
    "print(vowel_finder(ip_str))\n"
   ]
  }
 ],
 "metadata": {
  "kernelspec": {
   "display_name": "Python 3",
   "language": "python",
   "name": "python3"
  },
  "language_info": {
   "codemirror_mode": {
    "name": "ipython",
    "version": 3
   },
   "file_extension": ".py",
   "mimetype": "text/x-python",
   "name": "python",
   "nbconvert_exporter": "python",
   "pygments_lexer": "ipython3",
   "version": "3.8.3"
  }
 },
 "nbformat": 4,
 "nbformat_minor": 4
}
